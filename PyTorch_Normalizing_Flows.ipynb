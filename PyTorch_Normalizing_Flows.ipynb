{
 "cells": [
  {
   "cell_type": "code",
   "execution_count": 22,
   "metadata": {},
   "outputs": [],
   "source": [
    "import numpy as np\n",
    "import torch.distributions as td\n",
    "import torch.distributions.transforms as t\n",
    "from matplotlib import pyplot as plt\n",
    "import torch\n",
    "from torch.autograd import Variable\n",
    "from torch import nn"
   ]
  },
  {
   "cell_type": "code",
   "execution_count": 23,
   "metadata": {},
   "outputs": [],
   "source": [
    "# define bijector for LeakyReLU\n",
    "class LeakyReLU(t.Transform):\n",
    "    \n",
    "    domain = td.constraints.real\n",
    "    codomain = td.constraints.real\n",
    "    bijective = True\n",
    "    \n",
    "    def __init__(self, alpha=0.5, validate_args=False, name=\"leaky_relu\"):\n",
    "        super().__init__(cache_size=0)\n",
    "        \n",
    "        self.alpha = nn.Parameter(torch.tensor([float(alpha)]), requires_grad=True)\n",
    "\n",
    "    def _call(self, x):\n",
    "        return torch.where(torch.greater_equal(x, 0), x, self.alpha * x)\n",
    "\n",
    "    def _inverse(self, y):\n",
    "        return torch.where(torch.greater_equal(y, 0), y, 1. / self.alpha * y)\n",
    "\n",
    "    def log_abs_det_jacobian(self, y):\n",
    "        event_dims = y.dim()\n",
    "        I = torch.ones_like(y)\n",
    "        J_inv = torch.where(torch.greater_equal(y, 0), I, 1.0 / self.alpha * I)\n",
    "        # abs is actually redundant here, since this det Jacobian is > 0\n",
    "        log_abs_det_J_inv = torch.log(torch.abs(J_inv))\n",
    "        return torch.reduce_sum(log_abs_det_J_inv, axis=event_dims)"
   ]
  },
  {
   "cell_type": "code",
   "execution_count": 44,
   "metadata": {},
   "outputs": [],
   "source": [
    "a = 0\n",
    "b = 1\n",
    "\n",
    "def FlowLayer(n_layers):\n",
    "\n",
    "    flow = []   \n",
    "    for i in range(n_layers):\n",
    "             \n",
    "        flow.append(LeakyReLU(alpha=1))\n",
    "        flow.append(td.AffineTransform(loc=0.0, scale=1.0))\n",
    "    \n",
    "    return flow\n",
    "\n",
    "base_distribution = td.Normal(0, 1)\n",
    "logistic = td.TransformedDistribution(base_distribution, FlowLayer(4))"
   ]
  },
  {
   "cell_type": "code",
   "execution_count": 45,
   "metadata": {},
   "outputs": [
    {
     "data": {
      "text/plain": [
       "(array([  8.,  17.,  58., 127., 211., 229., 200.,  93.,  46.,  11.]),\n",
       " array([-3.221581  , -2.625252  , -2.028923  , -1.432594  , -0.83626497,\n",
       "        -0.239936  ,  0.356393  ,  0.952722  ,  1.549051  ,  2.14538   ,\n",
       "         2.741709  ], dtype=float32),\n",
       " <a list of 10 Patch objects>)"
      ]
     },
     "execution_count": 45,
     "metadata": {},
     "output_type": "execute_result"
    },
    {
     "data": {
      "image/png": "[encoded data removed]",
      "text/plain": [
       "<Figure size 432x288 with 1 Axes>"
      ]
     },
     "metadata": {
      "needs_background": "light"
     },
     "output_type": "display_data"
    }
   ],
   "source": [
    "plt.hist(logistic.sample((1000,)))"
   ]
  },
  {
   "cell_type": "code",
   "execution_count": 131,
   "metadata": {},
   "outputs": [
    {
     "data": {
      "text/plain": [
       "tensor([0.5000], requires_grad=True)"
      ]
     },
     "execution_count": 131,
     "metadata": {},
     "output_type": "execute_result"
    }
   ],
   "source": [
    "loss = -tf.reduce_mean(dist.log_prob(x_samples))\n",
    "train_op = tf.train.AdamOptimizer(1e-3).minimize(loss)\n",
    "sess = tf.InteractiveSession()\n",
    "sess.run(tf.global_variables_initializer())\n",
    "NUM_STEPS = int(1e5)\n",
    "global_step = []\n",
    "np_losses = []\n",
    "for i in range(NUM_STEPS):\n",
    "    _, np_loss = sess.run([train_op, loss])\n",
    "    if i % 1000 == 0:\n",
    "        global_step.append(i)\n",
    "        np_losses.append(np_loss)\n",
    "    if i % int(1e4) == 0:\n",
    "        print(i, np_loss)"
   ]
  },
  {
   "cell_type": "code",
   "execution_count": 71,
   "metadata": {},
   "outputs": [
    {
     "data": {
      "text/plain": [
       "DependentProperty()"
      ]
     },
     "execution_count": 71,
     "metadata": {},
     "output_type": "execute_result"
    }
   ],
   "source": []
  },
  {
   "cell_type": "code",
   "execution_count": null,
   "metadata": {},
   "outputs": [],
   "source": []
  }
 ],
 "metadata": {
  "kernelspec": {
   "display_name": "Python 3",
   "language": "python",
   "name": "python3"
  },
  "language_info": {
   "codemirror_mode": {
    "name": "ipython",
    "version": 3
   },
   "file_extension": ".py",
   "mimetype": "text/x-python",
   "name": "python",
   "nbconvert_exporter": "python",
   "pygments_lexer": "ipython3",
   "version": "3.7.3"
  }
 },
 "nbformat": 4,
 "nbformat_minor": 4
}
