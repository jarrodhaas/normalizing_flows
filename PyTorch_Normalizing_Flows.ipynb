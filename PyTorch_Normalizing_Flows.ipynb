{
 "cells": [
  {
   "cell_type": "code",
   "execution_count": 113,
   "metadata": {},
   "outputs": [],
   "source": [
    "import numpy as np\n",
    "import torch.distributions as td\n",
    "import torch.distributions.transforms as t\n",
    "from matplotlib import pyplot as plt\n",
    "import torch\n",
    "from torch.autograd import Variable"
   ]
  },
  {
   "cell_type": "code",
   "execution_count": 120,
   "metadata": {},
   "outputs": [],
   "source": [
    "class LeakyReLU(t.Transform):\n",
    "    \n",
    "    domain = td.constraints.real\n",
    "    codomain = td.constraints.real\n",
    "    bijective = True\n",
    "    \n",
    "    def __init__(self, alpha=0.5, validate_args=False, name=\"leaky_relu\"):\n",
    "        super().__init__(cache_size=0)\n",
    "        \n",
    "        self.alpha = Variable(torch.tensor([float(alpha)]), requires_grad=True)\n",
    "\n",
    "    def _call(self, x):\n",
    "        return torch.where(torch.greater_equal(x, 0), x, self.alpha * x)\n",
    "\n",
    "    def _inverse(self, y):\n",
    "        return torch.where(torch.greater_equal(y, 0), y, 1. / self.alpha * y)\n",
    "\n",
    "    def log_abs_det_jacobian(self, y):\n",
    "        event_dims = y.dim()\n",
    "        I = torch.ones_like(y)\n",
    "        J_inv = torch.where(torch.greater_equal(y, 0), I, 1.0 / self.alpha * I)\n",
    "        # abs is actually redundant here, since this det Jacobian is > 0\n",
    "        log_abs_det_J_inv = torch.log(torch.abs(J_inv))\n",
    "        return torch.reduce_sum(log_abs_det_J_inv, axis=event_dims)"
   ]
  },
  {
   "cell_type": "code",
   "execution_count": 128,
   "metadata": {},
   "outputs": [],
   "source": [
    "a = 0\n",
    "b = 1\n",
    "\n",
    "base_distribution = td.Normal(0, 1)\n",
    "transforms = [LeakyReLU(alpha=0.5), td.AffineTransform(loc=a, scale=b), td.AffineTransform(loc=a+1, scale=b*6)]\n",
    "logistic = td.TransformedDistribution(base_distribution, transforms)"
   ]
  },
  {
   "cell_type": "code",
   "execution_count": 129,
   "metadata": {},
   "outputs": [
    {
     "data": {
      "text/plain": [
       "(array([  7.,  45., 178., 303., 158., 143.,  97.,  39.,  25.,   5.]),\n",
       " array([-9.543701 , -6.780175 , -4.0166492, -1.2531233,  1.5104027,\n",
       "         4.2739286,  7.0374546,  9.800981 , 12.564507 , 15.3280325,\n",
       "        18.091558 ], dtype=float32),\n",
       " <a list of 10 Patch objects>)"
      ]
     },
     "execution_count": 129,
     "metadata": {},
     "output_type": "execute_result"
    },
    {
     "data": {
      "image/png": "[encoded data removed]",
      "text/plain": [
       "<Figure size 432x288 with 1 Axes>"
      ]
     },
     "metadata": {
      "needs_background": "light"
     },
     "output_type": "display_data"
    }
   ],
   "source": [
    "plt.hist(logistic.sample((1000,)))"
   ]
  },
  {
   "cell_type": "code",
   "execution_count": 131,
   "metadata": {},
   "outputs": [
    {
     "data": {
      "text/plain": [
       "tensor([0.5000], requires_grad=True)"
      ]
     },
     "execution_count": 131,
     "metadata": {},
     "output_type": "execute_result"
    }
   ],
   "source": [
    "LeakyReLU(alpha=0.5).alpha"
   ]
  },
  {
   "cell_type": "code",
   "execution_count": 71,
   "metadata": {},
   "outputs": [
    {
     "data": {
      "text/plain": [
       "DependentProperty()"
      ]
     },
     "execution_count": 71,
     "metadata": {},
     "output_type": "execute_result"
    }
   ],
   "source": [
    "t.AffineTransform.domain"
   ]
  },
  {
   "cell_type": "code",
   "execution_count": null,
   "metadata": {},
   "outputs": [],
   "source": []
  }
 ],
 "metadata": {
  "kernelspec": {
   "display_name": "Python 3",
   "language": "python",
   "name": "python3"
  },
  "language_info": {
   "codemirror_mode": {
    "name": "ipython",
    "version": 3
   },
   "file_extension": ".py",
   "mimetype": "text/x-python",
   "name": "python",
   "nbconvert_exporter": "python",
   "pygments_lexer": "ipython3",
   "version": "3.7.3"
  }
 },
 "nbformat": 4,
 "nbformat_minor": 4
}
